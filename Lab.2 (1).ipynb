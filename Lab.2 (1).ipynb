{
 "cells": [
  {
   "cell_type": "markdown",
   "metadata": {},
   "source": [
    "## Lab 2- Tic Tac Toe\n",
    "\n",
    "In this lab your will build a n x n Tic Tac Toe game. As you do the exercises, make sure your solutions work for any size Tic Tac Toe game. "
   ]
  },
  {
   "cell_type": "markdown",
   "metadata": {},
   "source": [
    "*Exercise 1:* Write a function that creates an n by n matrix (of list of lists) which will represent the state of a Tie Tac Toe game. Let 0, 1, and 2 represent empty, \"X\", and \"O\", respectively.\n"
   ]
  },
  {
   "cell_type": "code",
   "execution_count": 230,
   "metadata": {},
   "outputs": [],
   "source": [
    "empty = 0\n",
    "size = 6\n",
    "\n",
    "def make_board():\n",
    "    board = [[0 for _ in range(size)] for _ in range(size)]\n",
    "    return board\n"
   ]
  },
  {
   "cell_type": "code",
   "execution_count": 231,
   "metadata": {},
   "outputs": [
    {
     "data": {
      "text/plain": [
       "[['X', 'X', 0, 0, 'X', 0],\n",
       " ['X', 0, 'X', 0, 0, 0],\n",
       " ['X', 'X', 'X', 0, 0, 'X'],\n",
       " ['X', 0, 0, 0, 'X', 0],\n",
       " ['X', 0, 0, 0, 'X', 0],\n",
       " [0, 'X', 0, 0, 0, 0]]"
      ]
     },
     "execution_count": 231,
     "metadata": {},
     "output_type": "execute_result"
    }
   ],
   "source": [
    "board"
   ]
  },
  {
   "cell_type": "markdown",
   "metadata": {},
   "source": [
    "*Exercise 2:* Write a function that takes 2 integers `n` and `m` as input and draws a `n` by `m` game board. For example the following is a 3x3 board:\n",
    "```\n",
    "   --- --- --- \n",
    "  |   |   |   | \n",
    "   --- --- ---  \n",
    "  |   |   |   | \n",
    "   --- --- ---  \n",
    "  |   |   |   | \n",
    "   --- --- --- \n",
    "   ```"
   ]
  },
  {
   "cell_type": "code",
   "execution_count": 232,
   "metadata": {},
   "outputs": [],
   "source": [
    "row_display =\"  ---\"\n",
    "column_display =\" | \"\n",
    "\n",
    "def print_lines(n,m):\n",
    "    for i in range(n):\n",
    "        for i in range(n):\n",
    "            if i != (n-1):\n",
    "                print(row_display, end=\"\")\n",
    "            else:\n",
    "                print(row_display)\n",
    "        for i in range(m+1):\n",
    "            if i != (m):\n",
    "                print(column_display, end=\"  \")\n",
    "            else:\n",
    "                print(column_display)\n",
    "    for i in range(n):\n",
    "            if i != (n-1):\n",
    "                print(row_display, end=\"\")\n",
    "            else:\n",
    "                print(row_display)"
   ]
  },
  {
   "cell_type": "code",
   "execution_count": 233,
   "metadata": {
    "scrolled": true
   },
   "outputs": [
    {
     "name": "stdout",
     "output_type": "stream",
     "text": [
      "  ---  ---  ---  ---  ---  ---  ---  ---\n",
      " |    |    |    |    |    |    |    |    | \n",
      "  ---  ---  ---  ---  ---  ---  ---  ---\n",
      " |    |    |    |    |    |    |    |    | \n",
      "  ---  ---  ---  ---  ---  ---  ---  ---\n",
      " |    |    |    |    |    |    |    |    | \n",
      "  ---  ---  ---  ---  ---  ---  ---  ---\n",
      " |    |    |    |    |    |    |    |    | \n",
      "  ---  ---  ---  ---  ---  ---  ---  ---\n",
      " |    |    |    |    |    |    |    |    | \n",
      "  ---  ---  ---  ---  ---  ---  ---  ---\n",
      " |    |    |    |    |    |    |    |    | \n",
      "  ---  ---  ---  ---  ---  ---  ---  ---\n",
      " |    |    |    |    |    |    |    |    | \n",
      "  ---  ---  ---  ---  ---  ---  ---  ---\n",
      " |    |    |    |    |    |    |    |    | \n",
      "  ---  ---  ---  ---  ---  ---  ---  ---\n"
     ]
    }
   ],
   "source": [
    "print_lines(8,8)"
   ]
  },
  {
   "cell_type": "markdown",
   "metadata": {},
   "source": [
    "*Exercise 3:* Modify exercise 2, so that it takes a matrix of the form from exercise 1 and draws a tic-tac-tie board with \"X\"s and \"O\"s.  "
   ]
  },
  {
   "cell_type": "code",
   "execution_count": 234,
   "metadata": {},
   "outputs": [],
   "source": [
    "def print_linesss(list):\n",
    "    lsize=len(list)\n",
    "    for i in range(lsize):\n",
    "        for i in range(lsize):\n",
    "            if i != (lsize-1):\n",
    "                print(row_display, end=\"\")\n",
    "            else:\n",
    "                print(row_display)\n",
    "        for i in range(lsize+1):\n",
    "            if i != (lsize):\n",
    "                print(column_display, end=\"  \")\n",
    "            else:\n",
    "                print(column_display)\n",
    "    for i in range(lsize):\n",
    "            if i != (lsize-1):\n",
    "                print(row_display, end=\"\")\n",
    "            else:\n",
    "                print(row_display)\n",
    "   "
   ]
  },
  {
   "cell_type": "code",
   "execution_count": 235,
   "metadata": {},
   "outputs": [
    {
     "name": "stdout",
     "output_type": "stream",
     "text": [
      "  ---  ---  ---  ---  ---  ---\n",
      " |    |    |    |    |    |    | \n",
      "  ---  ---  ---  ---  ---  ---\n",
      " |    |    |    |    |    |    | \n",
      "  ---  ---  ---  ---  ---  ---\n",
      " |    |    |    |    |    |    | \n",
      "  ---  ---  ---  ---  ---  ---\n",
      " |    |    |    |    |    |    | \n",
      "  ---  ---  ---  ---  ---  ---\n",
      " |    |    |    |    |    |    | \n",
      "  ---  ---  ---  ---  ---  ---\n",
      " |    |    |    |    |    |    | \n",
      "  ---  ---  ---  ---  ---  ---\n"
     ]
    }
   ],
   "source": [
    "print_linesss(board)"
   ]
  },
  {
   "cell_type": "markdown",
   "metadata": {},
   "source": [
    "*Exercise 4:* Write a function that takes a `n` by `n` matrix representing a tic-tac-toe game, and returns -1, 0, 1, or 2 indicating the game is incomplete, the game is a draw, player 1 has won, or player 2 has one, respectively. Here are some example inputs you can use to test your code:"
   ]
  },
  {
   "cell_type": "code",
   "execution_count": 236,
   "metadata": {},
   "outputs": [],
   "source": [
    "def transpose(data):\n",
    "    return [[data[j][i] for j in range(len(data))] for i in range(len(data[0]))]\n",
    "def test_won(data):\n",
    "    n= len(data)\n",
    "    def all_same(lst): # Checks for same value\n",
    "        return lst[0] !=0 and all(x== lst[0] for x in lst)\n",
    "\n",
    "    for row in data:\n",
    "        if all_same(row):\n",
    "            return row[0]\n",
    "\n",
    "\n",
    "    for col in transpose(data):\n",
    "        if all_same(col):\n",
    "            return col[0]\n",
    "\n",
    "    if all_same([(data[i][i]) for i in range(n)]):\n",
    "        return data[0][0]\n",
    "\n",
    "    if all_same([(data[i][n-i-1]) for i in range(n)]):\n",
    "        return data[0][n-i]\n",
    "\n",
    "    if any(0 in row for row in data):\n",
    "        return -1 #Game is not finished\n",
    "\n",
    "\n",
    "    return 0 #Draw\n",
    "\n",
    "\n",
    "    \n",
    "    \n"
   ]
  },
  {
   "cell_type": "code",
   "execution_count": 237,
   "metadata": {},
   "outputs": [
    {
     "data": {
      "text/plain": [
       "-1"
      ]
     },
     "execution_count": 237,
     "metadata": {},
     "output_type": "execute_result"
    }
   ],
   "source": [
    "\n",
    "test_won_rows(board)"
   ]
  },
  {
   "cell_type": "code",
   "execution_count": 238,
   "metadata": {},
   "outputs": [],
   "source": [
    "winner_is_2 = [[2, 2, 0],\n",
    "\t[2, 1, 0],\n",
    "\t[2, 1, 1]]\n",
    "\n",
    "winner_is_1 = [[1, 2, 0],\n",
    "\t[2, 1, 0],\n",
    "\t[2, 1, 1]]\n",
    "\n",
    "winner_is_also_1 = [[0, 1, 0],\n",
    "\t[2, 1, 0],\n",
    "\t[2, 1, 1]]\n",
    "\n",
    "no_winner = [[1, 2, 0],\n",
    "\t[2, 1, 0],\n",
    "\t[2, 1, 2]]\n",
    "\n",
    "also_no_winner = [[1, 2, 0],\n",
    "\t[2, 1, 0],\n",
    "\t[2, 1, 0]]"
   ]
  },
  {
   "cell_type": "markdown",
   "metadata": {},
   "source": [
    "*Exercise 5:* Write a function that takes a game board, player number, and `(x,y)` coordinates and places \"X\" or \"O\" in the correct location of the game board. Make sure that you only allow filling previously empty locations. Return `True` or `False` to indicate successful placement of \"X\" or \"O\"."
   ]
  },
  {
   "cell_type": "code",
   "execution_count": 239,
   "metadata": {},
   "outputs": [],
   "source": [
    "def place_marker(board, player,loc):\n",
    "    marker = \"X\" if player == 1 else \"O\"\n",
    "\n",
    "    x,y = convert_to_indices(loc)\n",
    "    if x <0 or x>= len(board) or y <0 or y>= len(board[0]):\n",
    "        return False\n",
    "    if board[x][y] == 0:\n",
    "        board[x][y] = marker\n",
    "        return True\n",
    "    else:\n",
    "        return False"
   ]
  },
  {
   "cell_type": "code",
   "execution_count": 240,
   "metadata": {},
   "outputs": [
    {
     "name": "stdout",
     "output_type": "stream",
     "text": [
      "  A B C D E F\n",
      "1 X X . . X .\n",
      "2 X . X . . .\n",
      "3 X X X . . X\n",
      "4 X . . . X .\n",
      "5 X . . . X .\n",
      "6 . X . . . .\n"
     ]
    }
   ],
   "source": [
    "place_marker(board,1,'A2')\n",
    "draw_board(board)"
   ]
  },
  {
   "cell_type": "markdown",
   "metadata": {},
   "source": [
    "*Exercise 6:* Modify Exercise 4 to show column and row labels so that players can specify location using \"A2\" or \"C1\"."
   ]
  },
  {
   "cell_type": "code",
   "execution_count": 241,
   "metadata": {},
   "outputs": [],
   "source": [
    "def draw_board(board):\n",
    "    n=len(board)\n",
    "    column_names=list(\"ABCDEFGHIJKLMNOPQRSTUVWXYZ\")[:n]\n",
    "    print(\" \",\" \".join(column_names))\n",
    "\n",
    "    for i in range(n):\n",
    "        row_string = f\"{i+1} \"+\" \".join(str(cell) if cell != 0 else \".\" for cell in board[i])\n",
    "        print(row_string)\n",
    "def convert_to_indices(loc):\n",
    "    column = loc[0].upper()\n",
    "    row = loc[1]\n",
    "\n",
    "    col_index = ord(column) - ord('A')\n",
    "    row_index = int(row) - 1\n",
    "    return row_index,col_index\n"
   ]
  },
  {
   "cell_type": "code",
   "execution_count": 242,
   "metadata": {},
   "outputs": [
    {
     "name": "stdout",
     "output_type": "stream",
     "text": [
      "  A B C D E F\n",
      "1 X X . . X .\n",
      "2 X . X . . .\n",
      "3 X X X . . X\n",
      "4 X . . . X .\n",
      "5 X . . . X .\n",
      "6 . X . . . .\n"
     ]
    }
   ],
   "source": [
    "draw_board(board)"
   ]
  },
  {
   "cell_type": "markdown",
   "metadata": {},
   "source": [
    "*Exercise 7:* Write a function that takes a board, player number, and location specified as in exercise 6 and then calls exercise 5 to correctly modify the board.  "
   ]
  },
  {
   "cell_type": "code",
   "execution_count": 243,
   "metadata": {},
   "outputs": [],
   "source": [
    "def place_marker(board, player,loc):\n",
    "    marker = \"X\" if player == 1 else \"O\"\n",
    "\n",
    "    x,y = convert_to_indices(loc)\n",
    "    if x <0 or x>= len(board) or y <0 or y>= len(board[0]):\n",
    "        return False\n",
    "    if board[x][y] == 0:\n",
    "        board[x][y] = marker\n",
    "        return True\n",
    "    else:\n",
    "        return False"
   ]
  },
  {
   "cell_type": "code",
   "execution_count": 244,
   "metadata": {},
   "outputs": [
    {
     "name": "stdout",
     "output_type": "stream",
     "text": [
      "  A B C D E F\n",
      "1 X X . . X .\n",
      "2 X . X . . .\n",
      "3 X X X . . X\n",
      "4 X . . . X .\n",
      "5 X . . . X .\n",
      "6 . X . . . .\n"
     ]
    }
   ],
   "source": [
    "place_marker(board,1,'A2')\n",
    "draw_board(board)"
   ]
  },
  {
   "cell_type": "markdown",
   "metadata": {},
   "source": [
    "*Exercise 8:* Write a function is called with a board and player number, takes input from the player using python's `input`, and modifies the board using your function from exercise 7. Note that you should keep asking for input until you have gotten a valid input that results in a valid move."
   ]
  },
  {
   "cell_type": "code",
   "execution_count": null,
   "metadata": {},
   "outputs": [],
   "source": []
  },
  {
   "cell_type": "code",
   "execution_count": 250,
   "metadata": {},
   "outputs": [],
   "source": [
    "def convert_to_indices(loc):\n",
    "    x = int(loc[1]) - 1\n",
    "    y = ord(loc[0].upper()) - ord('A') \n",
    "    return x, y\n",
    "\n",
    "def place_marker(board, player):\n",
    "    marker = \"X\" if player == 1 else \"O\"\n",
    "    loc = input(f\"Player {player}, enter your move: \")\n",
    "    x, y = convert_to_indices(loc)\n",
    "\n",
    "    while x < 0 or x >= len(board) or y < 0 or y >= len(board[0]):\n",
    "        print(\"Error. Enter a letter followed by a number. EX. A3\")\n",
    "        loc = input(f\"Player {player}, enter your move: \")\n",
    "        x, y = convert_to_indices(loc)\n",
    "        continue\n",
    "\n",
    "    if board[x][y] != 0:\n",
    "        print(\"There is already a marker there\")\n",
    "        loc = input(f\"Player {player}, enter your move: \")\n",
    "        x, y = convert_to_indices(loc)\n",
    "        \n",
    "    \n",
    "    \n",
    "    board[x][y] = marker\n",
    "    return True"
   ]
  },
  {
   "cell_type": "code",
   "execution_count": 247,
   "metadata": {},
   "outputs": [
    {
     "name": "stdin",
     "output_type": "stream",
     "text": [
      "Player 1, enter your move:  F1\n"
     ]
    },
    {
     "name": "stdout",
     "output_type": "stream",
     "text": [
      "  A B C D E F\n",
      "1 X X . . X X\n",
      "2 X . X . X .\n",
      "3 X X X . . X\n",
      "4 X . . . X .\n",
      "5 X . . . X .\n",
      "6 . X . . . .\n"
     ]
    }
   ],
   "source": [
    "place_marker(board,1)\n",
    "draw_board(board)"
   ]
  },
  {
   "cell_type": "markdown",
   "metadata": {},
   "source": [
    "*Exercise 9:* Use all of the previous exercises to implement a full tic-tac-toe game, where an appropriate board is drawn, 2 players are repeatedly asked for a location coordinates of where they wish to place a mark, and the game status is checked until a player wins or a draw occurs."
   ]
  },
  {
   "cell_type": "code",
   "execution_count": 251,
   "metadata": {},
   "outputs": [],
   "source": [
    "empty = 0\n",
    "size = 3\n",
    "def tic_tac_toe():\n",
    "    board_0=make_board()\n",
    "    player=1\n",
    "\n",
    "    while test_won(board_0)== -1:\n",
    "        draw_board(board_0)\n",
    "\n",
    "        place_marker(board_0,player)\n",
    "        if (test_won(board_0) != -1) and (test_won(board_0) != 0) :\n",
    "            print(\"Winner is player:\",player)\n",
    "        if player==1:\n",
    "            player=2\n",
    "        else:\n",
    "            player=1\n",
    "    \n",
    "        \n",
    "    "
   ]
  },
  {
   "cell_type": "code",
   "execution_count": 252,
   "metadata": {},
   "outputs": [
    {
     "name": "stdout",
     "output_type": "stream",
     "text": [
      "  A B C\n",
      "1 . . .\n",
      "2 . . .\n",
      "3 . . .\n"
     ]
    },
    {
     "name": "stdin",
     "output_type": "stream",
     "text": [
      "Player 1, enter your move:  33\n"
     ]
    },
    {
     "name": "stdout",
     "output_type": "stream",
     "text": [
      "Error. Enter a letter followed by a number. EX. A3\n"
     ]
    },
    {
     "name": "stdin",
     "output_type": "stream",
     "text": [
      "Player 1, enter your move:  33\n"
     ]
    },
    {
     "name": "stdout",
     "output_type": "stream",
     "text": [
      "Error. Enter a letter followed by a number. EX. A3\n"
     ]
    },
    {
     "name": "stdin",
     "output_type": "stream",
     "text": [
      "Player 1, enter your move:  34\n"
     ]
    },
    {
     "name": "stdout",
     "output_type": "stream",
     "text": [
      "Error. Enter a letter followed by a number. EX. A3\n"
     ]
    },
    {
     "name": "stdin",
     "output_type": "stream",
     "text": [
      "Player 1, enter your move:  A1\n"
     ]
    },
    {
     "name": "stdout",
     "output_type": "stream",
     "text": [
      "  A B C\n",
      "1 X . .\n",
      "2 . . .\n",
      "3 . . .\n"
     ]
    },
    {
     "name": "stdin",
     "output_type": "stream",
     "text": [
      "Player 2, enter your move:  A1\n"
     ]
    },
    {
     "name": "stdout",
     "output_type": "stream",
     "text": [
      "There is already a marker there\n"
     ]
    },
    {
     "name": "stdin",
     "output_type": "stream",
     "text": [
      "Player 2, enter your move:  A2\n"
     ]
    },
    {
     "name": "stdout",
     "output_type": "stream",
     "text": [
      "  A B C\n",
      "1 X . .\n",
      "2 O . .\n",
      "3 . . .\n"
     ]
    },
    {
     "name": "stdin",
     "output_type": "stream",
     "text": [
      "Player 1, enter your move:  33\n"
     ]
    },
    {
     "name": "stdout",
     "output_type": "stream",
     "text": [
      "Error. Enter a letter followed by a number. EX. A3\n"
     ]
    },
    {
     "name": "stdin",
     "output_type": "stream",
     "text": [
      "Player 1, enter your move:  A2\n"
     ]
    },
    {
     "name": "stdout",
     "output_type": "stream",
     "text": [
      "There is already a marker there\n"
     ]
    },
    {
     "name": "stdin",
     "output_type": "stream",
     "text": [
      "Player 1, enter your move:  B1\n"
     ]
    },
    {
     "name": "stdout",
     "output_type": "stream",
     "text": [
      "  A B C\n",
      "1 X X .\n",
      "2 O . .\n",
      "3 . . .\n"
     ]
    },
    {
     "name": "stdin",
     "output_type": "stream",
     "text": [
      "Player 2, enter your move:  33\n"
     ]
    },
    {
     "name": "stdout",
     "output_type": "stream",
     "text": [
      "Error. Enter a letter followed by a number. EX. A3\n"
     ]
    },
    {
     "name": "stdin",
     "output_type": "stream",
     "text": [
      "Player 2, enter your move:  A3\n"
     ]
    },
    {
     "name": "stdout",
     "output_type": "stream",
     "text": [
      "  A B C\n",
      "1 X X .\n",
      "2 O . .\n",
      "3 O . .\n"
     ]
    },
    {
     "name": "stdin",
     "output_type": "stream",
     "text": [
      "Player 1, enter your move:  C1\n"
     ]
    },
    {
     "name": "stdout",
     "output_type": "stream",
     "text": [
      "Winner is player: 1\n"
     ]
    }
   ],
   "source": [
    "tic_tac_toe()"
   ]
  },
  {
   "cell_type": "markdown",
   "metadata": {},
   "source": [
    "*Exercise 10:* Test that your game works for 5x5 Tic Tac Toe.  "
   ]
  },
  {
   "cell_type": "code",
   "execution_count": 253,
   "metadata": {},
   "outputs": [],
   "source": [
    "empty = 0\n",
    "size = 5\n",
    "def tic_tac_toe():\n",
    "    board_0=make_board()\n",
    "    player=1\n",
    "\n",
    "    while test_won(board_0)== -1:\n",
    "        draw_board(board_0)\n",
    "\n",
    "        place_marker(board_0,player)\n",
    "        if (test_won(board_0) != -1) and (test_won(board_0) != 0) :\n",
    "            print(\"Winner is player:\",player)\n",
    "        if player==1:\n",
    "            player=2\n",
    "        else:\n",
    "            player=1"
   ]
  },
  {
   "cell_type": "code",
   "execution_count": 254,
   "metadata": {},
   "outputs": [
    {
     "name": "stdout",
     "output_type": "stream",
     "text": [
      "  A B C D E\n",
      "1 . . . . .\n",
      "2 . . . . .\n",
      "3 . . . . .\n",
      "4 . . . . .\n",
      "5 . . . . .\n"
     ]
    },
    {
     "name": "stdin",
     "output_type": "stream",
     "text": [
      "Player 1, enter your move:  A1\n"
     ]
    },
    {
     "name": "stdout",
     "output_type": "stream",
     "text": [
      "  A B C D E\n",
      "1 X . . . .\n",
      "2 . . . . .\n",
      "3 . . . . .\n",
      "4 . . . . .\n",
      "5 . . . . .\n"
     ]
    },
    {
     "name": "stdin",
     "output_type": "stream",
     "text": [
      "Player 2, enter your move:  A1\n"
     ]
    },
    {
     "name": "stdout",
     "output_type": "stream",
     "text": [
      "There is already a marker there\n"
     ]
    },
    {
     "name": "stdin",
     "output_type": "stream",
     "text": [
      "Player 2, enter your move:  B1\n"
     ]
    },
    {
     "name": "stdout",
     "output_type": "stream",
     "text": [
      "  A B C D E\n",
      "1 X O . . .\n",
      "2 . . . . .\n",
      "3 . . . . .\n",
      "4 . . . . .\n",
      "5 . . . . .\n"
     ]
    },
    {
     "name": "stdin",
     "output_type": "stream",
     "text": [
      "Player 1, enter your move:  33\n"
     ]
    },
    {
     "name": "stdout",
     "output_type": "stream",
     "text": [
      "Error. Enter a letter followed by a number. EX. A3\n"
     ]
    },
    {
     "name": "stdin",
     "output_type": "stream",
     "text": [
      "Player 1, enter your move:  A2\n"
     ]
    },
    {
     "name": "stdout",
     "output_type": "stream",
     "text": [
      "  A B C D E\n",
      "1 X O . . .\n",
      "2 X . . . .\n",
      "3 . . . . .\n",
      "4 . . . . .\n",
      "5 . . . . .\n"
     ]
    },
    {
     "name": "stdin",
     "output_type": "stream",
     "text": [
      "Player 2, enter your move:  B2\n"
     ]
    },
    {
     "name": "stdout",
     "output_type": "stream",
     "text": [
      "  A B C D E\n",
      "1 X O . . .\n",
      "2 X O . . .\n",
      "3 . . . . .\n",
      "4 . . . . .\n",
      "5 . . . . .\n"
     ]
    },
    {
     "name": "stdin",
     "output_type": "stream",
     "text": [
      "Player 1, enter your move:  A3\n"
     ]
    },
    {
     "name": "stdout",
     "output_type": "stream",
     "text": [
      "  A B C D E\n",
      "1 X O . . .\n",
      "2 X O . . .\n",
      "3 X . . . .\n",
      "4 . . . . .\n",
      "5 . . . . .\n"
     ]
    },
    {
     "name": "stdin",
     "output_type": "stream",
     "text": [
      "Player 2, enter your move:  B3\n"
     ]
    },
    {
     "name": "stdout",
     "output_type": "stream",
     "text": [
      "  A B C D E\n",
      "1 X O . . .\n",
      "2 X O . . .\n",
      "3 X O . . .\n",
      "4 . . . . .\n",
      "5 . . . . .\n"
     ]
    },
    {
     "name": "stdin",
     "output_type": "stream",
     "text": [
      "Player 1, enter your move:  A4\n"
     ]
    },
    {
     "name": "stdout",
     "output_type": "stream",
     "text": [
      "  A B C D E\n",
      "1 X O . . .\n",
      "2 X O . . .\n",
      "3 X O . . .\n",
      "4 X . . . .\n",
      "5 . . . . .\n"
     ]
    },
    {
     "name": "stdin",
     "output_type": "stream",
     "text": [
      "Player 2, enter your move:  B4\n"
     ]
    },
    {
     "name": "stdout",
     "output_type": "stream",
     "text": [
      "  A B C D E\n",
      "1 X O . . .\n",
      "2 X O . . .\n",
      "3 X O . . .\n",
      "4 X O . . .\n",
      "5 . . . . .\n"
     ]
    },
    {
     "name": "stdin",
     "output_type": "stream",
     "text": [
      "Player 1, enter your move:  A5\n"
     ]
    },
    {
     "name": "stdout",
     "output_type": "stream",
     "text": [
      "Winner is player: 1\n"
     ]
    }
   ],
   "source": [
    "tic_tac_toe()"
   ]
  },
  {
   "cell_type": "markdown",
   "metadata": {},
   "source": [
    "*Exercise 11:* (Advanced / Challenge) Develop a version of the game where one player is the computer. Note that you don't need to do an extensive seach for the best move. You can have the computer simply protect against loosing and otherwise try to win with straight or diagonal patterns."
   ]
  },
  {
   "cell_type": "code",
   "execution_count": null,
   "metadata": {
    "collapsed": true,
    "jupyter": {
     "outputs_hidden": true
    }
   },
   "outputs": [],
   "source": [
    "# Write you solution here"
   ]
  },
  {
   "cell_type": "code",
   "execution_count": null,
   "metadata": {
    "collapsed": true,
    "jupyter": {
     "outputs_hidden": true
    }
   },
   "outputs": [],
   "source": [
    "# Test your solution here"
   ]
  }
 ],
 "metadata": {
  "kernelspec": {
   "display_name": "Python 3 (ipykernel)",
   "language": "python",
   "name": "python3"
  },
  "language_info": {
   "codemirror_mode": {
    "name": "ipython",
    "version": 3
   },
   "file_extension": ".py",
   "mimetype": "text/x-python",
   "name": "python",
   "nbconvert_exporter": "python",
   "pygments_lexer": "ipython3",
   "version": "3.10.12"
  }
 },
 "nbformat": 4,
 "nbformat_minor": 4
}
