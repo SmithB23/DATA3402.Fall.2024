{
 "cells": [
  {
   "cell_type": "markdown",
   "metadata": {},
   "source": [
    "# Lab 5\n"
   ]
  },
  {
   "cell_type": "markdown",
   "metadata": {},
   "source": [
    "Matrix Representation: In this lab you will be creating a simple linear algebra system. In memory, we will represent matrices as nested python lists as we have done in lecture. In the exercises below, you are required to explicitly test every feature you implement, demonstrating it works.\n",
    "\n",
    "1. Create a `matrix` class with the following properties:\n",
    "    * It can be initialized in 2 ways:\n",
    "        1. with arguments `n` and `m`, the size of the matrix. A newly instanciated matrix will contain all zeros.\n",
    "        2. with a list of lists of values. Note that since we are using lists of lists to implement matrices, it is possible that not all rows have the same number of columns. Test explicitly that the matrix is properly specified.\n",
    "    * Matrix instances `M` can be indexed with `M[i][j]` and `M[i,j]`.\n",
    "    * Matrix assignment works in 2 ways:\n",
    "        1. If `M_1` and `M_2` are `matrix` instances `M_1=M_2` sets the values of `M_1` to those of `M_2`, if they are the same size. Error otherwise.\n",
    "        2. In example above `M_2` can be a list of lists of correct size.\n"
   ]
  },
  {
   "cell_type": "markdown",
   "metadata": {},
   "source": [
    "2. Add the following methods:\n",
    "    * `shape()`: returns a tuple `(n,m)` of the shape of the matrix.\n",
    "    * `transpose()`: returns a new matrix instance which is the transpose of the matrix.\n",
    "    * `row(n)` and `column(n)`: that return the nth row or column of the matrix M as a new appropriately shaped matrix object.\n",
    "    * `to_list()`: which returns the matrix as a list of lists.\n",
    "    *  `block(n_0,n_1,m_0,m_1)` that returns a smaller matrix located at the n_0 to n_1 columns and m_0 to m_1 rows. \n",
    "    * (Extra credit) Modify `__getitem__` implemented above to support slicing.\n",
    "        "
   ]
  },
  {
   "cell_type": "markdown",
   "metadata": {},
   "source": [
    "3. Write functions that create special matrices (note these are standalone functions, not member functions of your `matrix` class):\n",
    "    * `constant(n,m,c)`: returns a `n` by `m` matrix filled with floats of value `c`.\n",
    "    * `zeros(n,m)` and `ones(n,m)`: return `n` by `m` matrices filled with floats of value `0` and `1`, respectively.\n",
    "    * `eye(n)`: returns the n by n identity matrix."
   ]
  },
  {
   "cell_type": "markdown",
   "metadata": {},
   "source": [
    "4. Add the following member functions to your class. Make sure to appropriately test the dimensions of the matrices to make sure the operations are correct.\n",
    "    * `M.scalarmul(c)`: a matrix that is scalar product $cM$, where every element of $M$ is multiplied by $c$.\n",
    "    * `M.add(N)`: adds two matrices $M$ and $N$. Don’t forget to test that the sizes of the matrices are compatible for this and all other operations.\n",
    "    * `M.sub(N)`: subtracts two matrices $M$ and $N$.\n",
    "    * `M.mat_mult(N)`: returns a matrix that is the matrix product of two matrices $M$ and $N$.\n",
    "    * `M.element_mult(N)`: returns a matrix that is the element-wise product of two matrices $M$ and $N$.\n",
    "    * `M.equals(N)`: returns true/false if $M==N$."
   ]
  },
  {
   "cell_type": "markdown",
   "metadata": {},
   "source": [
    "5. Overload python operators to appropriately use your functions in 4 and allow expressions like:\n",
    "    * 2*M\n",
    "    * M*2\n",
    "    * M+N\n",
    "    * M-N\n",
    "    * M*N\n",
    "    * M==N\n",
    "    * M=N\n"
   ]
  },
  {
   "cell_type": "markdown",
   "metadata": {},
   "source": [
    "6. Demonstrate the basic properties of matrices with your matrix class by creating two 2 by 2 example matrices using your Matrix class and illustrating the following:\n",
    "\n",
    "$$\n",
    "(AB)C=A(BC)\n",
    "$$\n",
    "$$\n",
    "A(B+C)=AB+AC\n",
    "$$\n",
    "$$\n",
    "AB\\neq BA\n",
    "$$\n",
    "$$\n",
    "AI=A\n",
    "$$"
   ]
  },
  {
   "cell_type": "code",
   "execution_count": 26,
   "metadata": {},
   "outputs": [],
   "source": [
    "class matrix:\n",
    "    def __init__(self,n,m):\n",
    "        self.n=n\n",
    "        self.m=m\n",
    "        self.data = [[0 for j in range(m)] for i in range(n)]\n",
    "        self.rows = [[0] * m for _ in range(n)]\n",
    "    # Allows me to obtain a specific index\n",
    "    def get_point(self,index):\n",
    "        return self.data[index[0]][index[1]]\n",
    "    # Allows me to set matrics equal to eachother\n",
    "    def set_equal(self,m1,m2):\n",
    "        if m1.shape() == m2.shape():\n",
    "            m2=m1\n",
    "        else:\n",
    "            print(\"Error\")\n",
    "    # Shows the shape of a matrix in a tuple\n",
    "    def shape(self):\n",
    "        return (self.n, self.m)\n",
    "    # makes a new instance of the transpose of a matrix\n",
    "    def transpose(self):\n",
    "        result = matrix(self.m, self.n)\n",
    "        for i in range(self.n):\n",
    "            for j in range(self.m):\n",
    "                result.data[j][i] = self.data[i][j]\n",
    "        return result\n",
    "\n",
    "    def row(self, n):\n",
    "        if 0 <= n < self.n:\n",
    "            return self.data[n]\n",
    "        else:\n",
    "            raise IndexError(\"Row index out of range\")\n",
    "    def column(self, n):\n",
    "        return tuple(row[n] for row in self.data)\n",
    "    def to_list(self):\n",
    "        return [list(row) for row in self.data]\n",
    "    def block(self, n_0, n_1, m_0, m_1):\n",
    "\n",
    "        if not (0 <= n_0 <= n_1 < self.n and 0 <= m_0 <= m_1 < self.m):\n",
    "            raise ValueError(\"Invalid block indices\")\n",
    "\n",
    "        new_matrix = [[0] * (n_1 - n_0 + 1) for _ in range(m_1 - m_0 + 1)]\n",
    "\n",
    "        for i in range(m_0, m_1 + 1):\n",
    "            for j in range(n_0, n_1 + 1):\n",
    "                new_matrix[i - m_0][j - n_0] = self.data[i][j]\n",
    "\n",
    "        return new_matrix\n",
    "    def scalarmul(self, c):\n",
    "        return matrix(self.n, self.m, [[c * self.data[i][j] for j in range(self.m)] for i in range(self.n)])\n",
    "\n",
    "    def add(self, other):\n",
    "        if self.n != other.n or self.m != other.m:\n",
    "            raise ValueError(\"Matrix dimensions must be compatible for addition.\")\n",
    "        return matrix(self.n, self.m, [[self.data[i][j] + other.data[i][j] for j in range(self.m)] for i in range(self.n)])\n",
    "\n",
    "    def sub(self, other):\n",
    "        return self.add(other.scalarmul(-1))\n",
    "\n",
    "    def mat_mult(self, other):\n",
    "        if self.m != other.n:\n",
    "            raise ValueError(\"Matrix dimensions must be compatible for multiplication.\")\n",
    "        result = [[0] * other.m for _ in range(self.n)]\n",
    "        for i in range(self.n):\n",
    "            for j in range(other.m):\n",
    "                for k in range(self.m):\n",
    "                    result[i][j] += self.data[i][k] * other.data[k][j]\n",
    "        return matrix(self.n, other.m, result)\n",
    "\n",
    "    def element_mult(self, other):\n",
    "        if self.n != other.n or self.m != other.m:\n",
    "            raise ValueError(\"Matrix dimensions must be compatible for element-wise multiplication.\")\n",
    "        return matrix(self.n, self.m, [[self.data[i][j] * other.data[i][j] for j in range(self.m)] for i in range(self.n)])\n",
    "\n",
    "    def equals(self, other):\n",
    "        return self.n == other.n and self.m == other.m and all(self.data[i][j] == other.data[i][j] for i in range(self.n) for j in range(self.m))"
   ]
  },
  {
   "cell_type": "code",
   "execution_count": 20,
   "metadata": {},
   "outputs": [],
   "source": [
    "def constant(n, m, c):\n",
    "    return [[c] * m for _ in range(n)]"
   ]
  },
  {
   "cell_type": "code",
   "execution_count": 22,
   "metadata": {},
   "outputs": [],
   "source": [
    "def zeros(n, m):\n",
    "  return [[0] * m for _ in range(n)]\n",
    "\n",
    "def ones(n, m):\n",
    "  return [[1] * m for _ in range(n)]"
   ]
  },
  {
   "cell_type": "code",
   "execution_count": 23,
   "metadata": {},
   "outputs": [],
   "source": [
    "def eye(n):\n",
    "  return [[1 if i == j else 0 for j in range(n)] for i in range(n)]"
   ]
  },
  {
   "cell_type": "code",
   "execution_count": 15,
   "metadata": {},
   "outputs": [],
   "source": [
    "a=matrix(4,4)"
   ]
  },
  {
   "cell_type": "code",
   "execution_count": 44,
   "metadata": {},
   "outputs": [
    {
     "data": {
      "text/plain": [
       "2"
      ]
     },
     "execution_count": 44,
     "metadata": {},
     "output_type": "execute_result"
    }
   ],
   "source": [
    "a.get_point((1,0))"
   ]
  },
  {
   "cell_type": "code",
   "execution_count": 18,
   "metadata": {},
   "outputs": [
    {
     "data": {
      "text/plain": [
       "[[1, 1, 1, 1], [2, 2, 2, 2], [3, 3, 3, 3], [4, 4, 4, 4]]"
      ]
     },
     "execution_count": 18,
     "metadata": {},
     "output_type": "execute_result"
    }
   ],
   "source": [
    "a.to_list()"
   ]
  },
  {
   "cell_type": "code",
   "execution_count": 16,
   "metadata": {},
   "outputs": [],
   "source": [
    "b=a.column(2)"
   ]
  },
  {
   "cell_type": "code",
   "execution_count": 17,
   "metadata": {},
   "outputs": [
    {
     "data": {
      "text/plain": [
       "(1, 2, 3, 4)"
      ]
     },
     "execution_count": 17,
     "metadata": {},
     "output_type": "execute_result"
    }
   ],
   "source": [
    "b"
   ]
  },
  {
   "cell_type": "code",
   "execution_count": null,
   "metadata": {},
   "outputs": [],
   "source": []
  }
 ],
 "metadata": {
  "kernelspec": {
   "display_name": "Python 3 (ipykernel)",
   "language": "python",
   "name": "python3"
  },
  "language_info": {
   "codemirror_mode": {
    "name": "ipython",
    "version": 3
   },
   "file_extension": ".py",
   "mimetype": "text/x-python",
   "name": "python",
   "nbconvert_exporter": "python",
   "pygments_lexer": "ipython3",
   "version": "3.10.12"
  }
 },
 "nbformat": 4,
 "nbformat_minor": 4
}
